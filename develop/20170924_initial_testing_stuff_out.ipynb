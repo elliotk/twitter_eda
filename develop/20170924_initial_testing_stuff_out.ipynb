{
 "cells": [
  {
   "cell_type": "code",
   "execution_count": 18,
   "metadata": {
    "collapsed": true
   },
   "outputs": [],
   "source": [
    "import tweepy\n",
    "import pandas as pd\n",
    "import numpy as np\n",
    "from datetime import datetime\n",
    "\n",
    "import matplotlib.pyplot as plt\n",
    "import seaborn as sns\n",
    "%matplotlib inline"
   ]
  },
  {
   "cell_type": "code",
   "execution_count": 2,
   "metadata": {
    "collapsed": true
   },
   "outputs": [],
   "source": [
    "# Import keys\n",
    "from credentials import *"
   ]
  },
  {
   "cell_type": "code",
   "execution_count": 3,
   "metadata": {
    "collapsed": true
   },
   "outputs": [],
   "source": [
    "# Setup Twitter API connection\n",
    "def twitter_setup():\n",
    "    auth = tweepy.OAuthHandler(CONSUMER_KEY, CONSUMER_SECRET)\n",
    "    auth.set_access_token(ACCESS_TOKEN, ACCESS_SECRET)\n",
    "    \n",
    "    api = tweepy.API(auth)\n",
    "    return api"
   ]
  },
  {
   "cell_type": "code",
   "execution_count": 183,
   "metadata": {
    "collapsed": false,
    "scrolled": true
   },
   "outputs": [
    {
     "name": "stdout",
     "output_type": "stream",
     "text": [
      "Number of tweets extracted: 200.\n",
      "\n",
      "5 recent tweets:\n",
      "\n",
      "1.) Congratulations to #TeamUSA🇺🇸🏆on your great @PresidentsCup victory! https://t.co/fZeP1e9mo7\n",
      "\n",
      "2.) Being nice to Rocket Man hasn't worked in 25 years, why would it work now? Clinton failed, Bush failed, and Obama failed. I won't fail.\n",
      "\n",
      "3.) ...Save your energy Rex, we'll do what has to be done!\n",
      "\n",
      "4.) I told Rex Tillerson, our wonderful Secretary of State, that he is wasting his time trying to negotiate with Little Rocket Man...\n",
      "\n",
      "5.) ...for safety. Thank you to the Governor of P.R. and to all of those who are working so closely with our First Responders. Fantastic job!\n",
      "\n",
      "6.) ...people are now starting to recognize the amazing work that has been done by FEMA and our great Military. All buildings now inspected.....\n",
      "\n",
      "7.) We have done a great job with the almost impossible situation in Puerto Rico. Outside of the Fake News or politically motivated ingrates,...\n",
      "\n",
      "8.) RT @SLandinSoCal: When you kneel for our #NationalAnthem, you aren't protesting a specific issue, you are protesting our Nation and EVERYTH…\n",
      "\n",
      "9.) 19,000 RESPECTING our National Anthem! #StandForOurAnthem🇺🇸 https://t.co/czutyGaMQV\n",
      "\n",
      "10.) In analyzing the Alabama Primary race,FAKE NEWS always fails to mention that the candidate I endorsed went up MANY points after endorsement!\n",
      "\n"
     ]
    }
   ],
   "source": [
    "# Extract Twitter data\n",
    "extractor = twitter_setup()\n",
    "\n",
    "tweets = extractor.user_timeline(screen_name='realdonaldtrump', count=200)\n",
    "print('Number of tweets extracted: {}.\\n'.format(len(tweets)))\n",
    "\n",
    "# Display 5 most recent tweets\n",
    "print('5 recent tweets:\\n')\n",
    "for idx, tweet in enumerate(tweets[:10]):\n",
    "    # if tweet.text.startswith('RT'):\n",
    "        print(\"%d.) %s\\n\" % (idx+1, tweet.text))"
   ]
  },
  {
   "cell_type": "code",
   "execution_count": null,
   "metadata": {
    "collapsed": true
   },
   "outputs": [],
   "source": [
    "if tweet.text.startswith"
   ]
  },
  {
   "cell_type": "code",
   "execution_count": 184,
   "metadata": {
    "collapsed": false
   },
   "outputs": [
    {
     "data": {
      "text/html": [
       "<div>\n",
       "<table border=\"1\" class=\"dataframe\">\n",
       "  <thead>\n",
       "    <tr style=\"text-align: right;\">\n",
       "      <th></th>\n",
       "      <th>Tweets</th>\n",
       "    </tr>\n",
       "  </thead>\n",
       "  <tbody>\n",
       "    <tr>\n",
       "      <th>0</th>\n",
       "      <td>Congratulations to #TeamUSA🇺🇸🏆on your great @P...</td>\n",
       "    </tr>\n",
       "    <tr>\n",
       "      <th>1</th>\n",
       "      <td>Being nice to Rocket Man hasn't worked in 25 y...</td>\n",
       "    </tr>\n",
       "    <tr>\n",
       "      <th>2</th>\n",
       "      <td>...Save your energy Rex, we'll do what has to ...</td>\n",
       "    </tr>\n",
       "    <tr>\n",
       "      <th>3</th>\n",
       "      <td>I told Rex Tillerson, our wonderful Secretary ...</td>\n",
       "    </tr>\n",
       "    <tr>\n",
       "      <th>4</th>\n",
       "      <td>...for safety. Thank you to the Governor of P....</td>\n",
       "    </tr>\n",
       "    <tr>\n",
       "      <th>5</th>\n",
       "      <td>...people are now starting to recognize the am...</td>\n",
       "    </tr>\n",
       "    <tr>\n",
       "      <th>6</th>\n",
       "      <td>We have done a great job with the almost impos...</td>\n",
       "    </tr>\n",
       "    <tr>\n",
       "      <th>7</th>\n",
       "      <td>RT @SLandinSoCal: When you kneel for our #Nati...</td>\n",
       "    </tr>\n",
       "    <tr>\n",
       "      <th>8</th>\n",
       "      <td>19,000 RESPECTING our National Anthem! #StandF...</td>\n",
       "    </tr>\n",
       "    <tr>\n",
       "      <th>9</th>\n",
       "      <td>In analyzing the Alabama Primary race,FAKE NEW...</td>\n",
       "    </tr>\n",
       "  </tbody>\n",
       "</table>\n",
       "</div>"
      ],
      "text/plain": [
       "                                              Tweets\n",
       "0  Congratulations to #TeamUSA🇺🇸🏆on your great @P...\n",
       "1  Being nice to Rocket Man hasn't worked in 25 y...\n",
       "2  ...Save your energy Rex, we'll do what has to ...\n",
       "3  I told Rex Tillerson, our wonderful Secretary ...\n",
       "4  ...for safety. Thank you to the Governor of P....\n",
       "5  ...people are now starting to recognize the am...\n",
       "6  We have done a great job with the almost impos...\n",
       "7  RT @SLandinSoCal: When you kneel for our #Nati...\n",
       "8  19,000 RESPECTING our National Anthem! #StandF...\n",
       "9  In analyzing the Alabama Primary race,FAKE NEW..."
      ]
     },
     "execution_count": 184,
     "metadata": {},
     "output_type": "execute_result"
    }
   ],
   "source": [
    "# Create dataframe\n",
    "df = pd.DataFrame([tweet.text for tweet in tweets], columns=['Tweets'])\n",
    "\n",
    "df.head(n=10)"
   ]
  },
  {
   "cell_type": "code",
   "execution_count": 6,
   "metadata": {
    "collapsed": false
   },
   "outputs": [
    {
     "name": "stdout",
     "output_type": "stream",
     "text": [
      "['__class__', '__delattr__', '__dict__', '__doc__', '__eq__', '__format__', '__getattribute__', '__getstate__', '__hash__', '__init__', '__module__', '__ne__', '__new__', '__reduce__', '__reduce_ex__', '__repr__', '__setattr__', '__sizeof__', '__str__', '__subclasshook__', '__weakref__', '_api', '_json', 'author', 'contributors', 'coordinates', 'created_at', 'destroy', 'entities', 'favorite', 'favorite_count', 'favorited', 'geo', 'id', 'id_str', 'in_reply_to_screen_name', 'in_reply_to_status_id', 'in_reply_to_status_id_str', 'in_reply_to_user_id', 'in_reply_to_user_id_str', 'is_quote_status', 'lang', 'parse', 'parse_list', 'place', 'retweet', 'retweet_count', 'retweeted', 'retweets', 'source', 'source_url', 'text', 'truncated', 'user']\n"
     ]
    }
   ],
   "source": [
    "# Explore tweepy object\n",
    "print(dir(tweets[0]))"
   ]
  },
  {
   "cell_type": "code",
   "execution_count": 185,
   "metadata": {
    "collapsed": false
   },
   "outputs": [
    {
     "name": "stdout",
     "output_type": "stream",
     "text": [
      "914661855947366406\n",
      "2017-10-02 01:22:34\n",
      "Media Studio\n",
      "27234\n",
      "False\n",
      "5409\n",
      "False\n",
      "None\n",
      "None\n",
      "{u'symbols': [], u'user_mentions': [{u'id': 282713139, u'indices': [44, 58], u'id_str': u'282713139', u'screen_name': u'PresidentsCup', u'name': u'Presidents Cup'}], u'hashtags': [{u'indices': [19, 27], u'text': u'TeamUSA'}], u'urls': [], u'media': [{u'expanded_url': u'https://twitter.com/realDonaldTrump/status/914661855947366406/video/1', u'display_url': u'pic.twitter.com/fZeP1e9mo7', u'url': u'https://t.co/fZeP1e9mo7', u'media_url_https': u'https://pbs.twimg.com/amplify_video_thumb/914655542374752256/img/yZqtFM8uJ3EWXgWs.jpg', u'id_str': u'914655542374752256', u'sizes': {u'small': {u'h': 191, u'resize': u'fit', u'w': 340}, u'large': {u'h': 576, u'resize': u'fit', u'w': 1024}, u'medium': {u'h': 338, u'resize': u'fit', u'w': 600}, u'thumb': {u'h': 150, u'resize': u'crop', u'w': 150}}, u'indices': [68, 91], u'type': u'photo', u'id': 914655542374752256, u'media_url': u'http://pbs.twimg.com/amplify_video_thumb/914655542374752256/img/yZqtFM8uJ3EWXgWs.jpg'}]}\n"
     ]
    }
   ],
   "source": [
    "# Explore most recent tweet and its properties\n",
    "print(tweets[0].id)\n",
    "print(tweets[0].created_at)\n",
    "print(tweets[0].source)\n",
    "print(tweets[0].favorite_count)\n",
    "print(tweets[0].favorited)\n",
    "print(tweets[0].retweet_count)\n",
    "print(tweets[0].retweeted)\n",
    "print(tweets[0].geo)\n",
    "print(tweets[0].coordinates)\n",
    "print(tweets[0].entities)"
   ]
  },
  {
   "cell_type": "code",
   "execution_count": 186,
   "metadata": {
    "collapsed": true
   },
   "outputs": [],
   "source": [
    "# Add columns to df\n",
    "df['len'] = np.array([len(tweet.text) for tweet in tweets])\n",
    "df['ID'] = np.array([tweet.id for tweet in tweets])\n",
    "df['Date'] = np.array([tweet.created_at for tweet in tweets])\n",
    "df['Source'] = np.array([tweet.source for tweet in tweets])\n",
    "df['Likes'] = np.array([tweet.favorite_count for tweet in tweets])\n",
    "df['Retweets'] = np.array([tweet.retweet_count for tweet in tweets])"
   ]
  },
  {
   "cell_type": "code",
   "execution_count": 187,
   "metadata": {
    "collapsed": false
   },
   "outputs": [
    {
     "data": {
      "text/html": [
       "<div>\n",
       "<table border=\"1\" class=\"dataframe\">\n",
       "  <thead>\n",
       "    <tr style=\"text-align: right;\">\n",
       "      <th></th>\n",
       "      <th>Tweets</th>\n",
       "      <th>len</th>\n",
       "      <th>ID</th>\n",
       "      <th>Date</th>\n",
       "      <th>Source</th>\n",
       "      <th>Likes</th>\n",
       "      <th>Retweets</th>\n",
       "    </tr>\n",
       "  </thead>\n",
       "  <tbody>\n",
       "    <tr>\n",
       "      <th>0</th>\n",
       "      <td>Congratulations to #TeamUSA🇺🇸🏆on your great @P...</td>\n",
       "      <td>91</td>\n",
       "      <td>914661855947366406</td>\n",
       "      <td>2017-10-02 01:22:34</td>\n",
       "      <td>Media Studio</td>\n",
       "      <td>27234</td>\n",
       "      <td>5409</td>\n",
       "    </tr>\n",
       "    <tr>\n",
       "      <th>1</th>\n",
       "      <td>Being nice to Rocket Man hasn't worked in 25 y...</td>\n",
       "      <td>135</td>\n",
       "      <td>914565910798782465</td>\n",
       "      <td>2017-10-01 19:01:19</td>\n",
       "      <td>Twitter for iPhone</td>\n",
       "      <td>127369</td>\n",
       "      <td>33636</td>\n",
       "    </tr>\n",
       "    <tr>\n",
       "      <th>2</th>\n",
       "      <td>...Save your energy Rex, we'll do what has to ...</td>\n",
       "      <td>54</td>\n",
       "      <td>914497947517227008</td>\n",
       "      <td>2017-10-01 14:31:15</td>\n",
       "      <td>Twitter for iPhone</td>\n",
       "      <td>48071</td>\n",
       "      <td>11857</td>\n",
       "    </tr>\n",
       "    <tr>\n",
       "      <th>3</th>\n",
       "      <td>I told Rex Tillerson, our wonderful Secretary ...</td>\n",
       "      <td>129</td>\n",
       "      <td>914497877543735296</td>\n",
       "      <td>2017-10-01 14:30:59</td>\n",
       "      <td>Twitter for iPhone</td>\n",
       "      <td>78856</td>\n",
       "      <td>21333</td>\n",
       "    </tr>\n",
       "    <tr>\n",
       "      <th>4</th>\n",
       "      <td>...for safety. Thank you to the Governor of P....</td>\n",
       "      <td>137</td>\n",
       "      <td>914467502251528192</td>\n",
       "      <td>2017-10-01 12:30:17</td>\n",
       "      <td>Twitter for iPhone</td>\n",
       "      <td>59827</td>\n",
       "      <td>11943</td>\n",
       "    </tr>\n",
       "  </tbody>\n",
       "</table>\n",
       "</div>"
      ],
      "text/plain": [
       "                                              Tweets  len                  ID  \\\n",
       "0  Congratulations to #TeamUSA🇺🇸🏆on your great @P...   91  914661855947366406   \n",
       "1  Being nice to Rocket Man hasn't worked in 25 y...  135  914565910798782465   \n",
       "2  ...Save your energy Rex, we'll do what has to ...   54  914497947517227008   \n",
       "3  I told Rex Tillerson, our wonderful Secretary ...  129  914497877543735296   \n",
       "4  ...for safety. Thank you to the Governor of P....  137  914467502251528192   \n",
       "\n",
       "                 Date              Source   Likes  Retweets  \n",
       "0 2017-10-02 01:22:34        Media Studio   27234      5409  \n",
       "1 2017-10-01 19:01:19  Twitter for iPhone  127369     33636  \n",
       "2 2017-10-01 14:31:15  Twitter for iPhone   48071     11857  \n",
       "3 2017-10-01 14:30:59  Twitter for iPhone   78856     21333  \n",
       "4 2017-10-01 12:30:17  Twitter for iPhone   59827     11943  "
      ]
     },
     "execution_count": 187,
     "metadata": {},
     "output_type": "execute_result"
    }
   ],
   "source": [
    "# Show first 10 records\n",
    "df.head()"
   ]
  },
  {
   "cell_type": "code",
   "execution_count": 188,
   "metadata": {
    "collapsed": false
   },
   "outputs": [
    {
     "name": "stdout",
     "output_type": "stream",
     "text": [
      "<class 'pandas.core.frame.DataFrame'>\n",
      "RangeIndex: 200 entries, 0 to 199\n",
      "Data columns (total 7 columns):\n",
      "Tweets      200 non-null object\n",
      "len         200 non-null int64\n",
      "ID          200 non-null int64\n",
      "Date        200 non-null datetime64[ns]\n",
      "Source      200 non-null object\n",
      "Likes       200 non-null int64\n",
      "Retweets    200 non-null int64\n",
      "dtypes: datetime64[ns](1), int64(4), object(2)\n",
      "memory usage: 142.0 KB\n"
     ]
    }
   ],
   "source": [
    "# Show datatypes\n",
    "df.info(null_counts=True, memory_usage='deep')"
   ]
  },
  {
   "cell_type": "code",
   "execution_count": 189,
   "metadata": {
    "collapsed": false
   },
   "outputs": [
    {
     "data": {
      "text/html": [
       "<div>\n",
       "<table border=\"1\" class=\"dataframe\">\n",
       "  <thead>\n",
       "    <tr style=\"text-align: right;\">\n",
       "      <th></th>\n",
       "      <th>len</th>\n",
       "      <th>ID</th>\n",
       "      <th>Likes</th>\n",
       "      <th>Retweets</th>\n",
       "    </tr>\n",
       "  </thead>\n",
       "  <tbody>\n",
       "    <tr>\n",
       "      <th>count</th>\n",
       "      <td>200.000000</td>\n",
       "      <td>2.000000e+02</td>\n",
       "      <td>200.000000</td>\n",
       "      <td>200.000000</td>\n",
       "    </tr>\n",
       "    <tr>\n",
       "      <th>mean</th>\n",
       "      <td>124.185000</td>\n",
       "      <td>9.120075e+17</td>\n",
       "      <td>61302.825000</td>\n",
       "      <td>16256.220000</td>\n",
       "    </tr>\n",
       "    <tr>\n",
       "      <th>std</th>\n",
       "      <td>30.313119</td>\n",
       "      <td>1.666258e+15</td>\n",
       "      <td>47206.149472</td>\n",
       "      <td>11604.640497</td>\n",
       "    </tr>\n",
       "    <tr>\n",
       "      <th>min</th>\n",
       "      <td>18.000000</td>\n",
       "      <td>9.087963e+17</td>\n",
       "      <td>0.000000</td>\n",
       "      <td>1457.000000</td>\n",
       "    </tr>\n",
       "    <tr>\n",
       "      <th>25%</th>\n",
       "      <td>126.000000</td>\n",
       "      <td>9.104773e+17</td>\n",
       "      <td>37596.750000</td>\n",
       "      <td>8675.000000</td>\n",
       "    </tr>\n",
       "    <tr>\n",
       "      <th>50%</th>\n",
       "      <td>138.000000</td>\n",
       "      <td>9.120583e+17</td>\n",
       "      <td>58183.500000</td>\n",
       "      <td>13139.500000</td>\n",
       "    </tr>\n",
       "    <tr>\n",
       "      <th>75%</th>\n",
       "      <td>140.000000</td>\n",
       "      <td>9.135755e+17</td>\n",
       "      <td>79322.500000</td>\n",
       "      <td>19282.750000</td>\n",
       "    </tr>\n",
       "    <tr>\n",
       "      <th>max</th>\n",
       "      <td>151.000000</td>\n",
       "      <td>9.146619e+17</td>\n",
       "      <td>214455.000000</td>\n",
       "      <td>74403.000000</td>\n",
       "    </tr>\n",
       "  </tbody>\n",
       "</table>\n",
       "</div>"
      ],
      "text/plain": [
       "              len            ID          Likes      Retweets\n",
       "count  200.000000  2.000000e+02     200.000000    200.000000\n",
       "mean   124.185000  9.120075e+17   61302.825000  16256.220000\n",
       "std     30.313119  1.666258e+15   47206.149472  11604.640497\n",
       "min     18.000000  9.087963e+17       0.000000   1457.000000\n",
       "25%    126.000000  9.104773e+17   37596.750000   8675.000000\n",
       "50%    138.000000  9.120583e+17   58183.500000  13139.500000\n",
       "75%    140.000000  9.135755e+17   79322.500000  19282.750000\n",
       "max    151.000000  9.146619e+17  214455.000000  74403.000000"
      ]
     },
     "execution_count": 189,
     "metadata": {},
     "output_type": "execute_result"
    }
   ],
   "source": [
    "df.describe()"
   ]
  },
  {
   "cell_type": "code",
   "execution_count": 190,
   "metadata": {
    "collapsed": false
   },
   "outputs": [
    {
     "data": {
      "text/html": [
       "<div>\n",
       "<table border=\"1\" class=\"dataframe\">\n",
       "  <thead>\n",
       "    <tr style=\"text-align: right;\">\n",
       "      <th></th>\n",
       "      <th>Tweets</th>\n",
       "      <th>len</th>\n",
       "      <th>ID</th>\n",
       "      <th>Date</th>\n",
       "      <th>Source</th>\n",
       "      <th>Likes</th>\n",
       "      <th>Retweets</th>\n",
       "    </tr>\n",
       "  </thead>\n",
       "  <tbody>\n",
       "    <tr>\n",
       "      <th>114</th>\n",
       "      <td>Going to the White House is considered a great...</td>\n",
       "      <td>139</td>\n",
       "      <td>911572182060453893</td>\n",
       "      <td>2017-09-23 12:45:19</td>\n",
       "      <td>Twitter for iPhone</td>\n",
       "      <td>214455</td>\n",
       "      <td>64764</td>\n",
       "    </tr>\n",
       "    <tr>\n",
       "      <th>92</th>\n",
       "      <td>#StandForOurAnthem</td>\n",
       "      <td>18</td>\n",
       "      <td>912301271817838593</td>\n",
       "      <td>2017-09-25 13:02:27</td>\n",
       "      <td>Twitter for iPhone</td>\n",
       "      <td>207224</td>\n",
       "      <td>74403</td>\n",
       "    </tr>\n",
       "    <tr>\n",
       "      <th>94</th>\n",
       "      <td>The issue of kneeling has nothing to do with r...</td>\n",
       "      <td>136</td>\n",
       "      <td>912280282224525312</td>\n",
       "      <td>2017-09-25 11:39:03</td>\n",
       "      <td>Twitter for iPhone</td>\n",
       "      <td>206417</td>\n",
       "      <td>56087</td>\n",
       "    </tr>\n",
       "    <tr>\n",
       "      <th>100</th>\n",
       "      <td>Courageous Patriots have fought and died for o...</td>\n",
       "      <td>129</td>\n",
       "      <td>912037003923005440</td>\n",
       "      <td>2017-09-24 19:32:21</td>\n",
       "      <td>Twitter for iPhone</td>\n",
       "      <td>199226</td>\n",
       "      <td>52951</td>\n",
       "    </tr>\n",
       "    <tr>\n",
       "      <th>167</th>\n",
       "      <td>God bless the people of Mexico City. We are wi...</td>\n",
       "      <td>79</td>\n",
       "      <td>910233418474098688</td>\n",
       "      <td>2017-09-19 20:05:32</td>\n",
       "      <td>Twitter for iPhone</td>\n",
       "      <td>191079</td>\n",
       "      <td>53453</td>\n",
       "    </tr>\n",
       "  </tbody>\n",
       "</table>\n",
       "</div>"
      ],
      "text/plain": [
       "                                                Tweets  len  \\\n",
       "114  Going to the White House is considered a great...  139   \n",
       "92                                  #StandForOurAnthem   18   \n",
       "94   The issue of kneeling has nothing to do with r...  136   \n",
       "100  Courageous Patriots have fought and died for o...  129   \n",
       "167  God bless the people of Mexico City. We are wi...   79   \n",
       "\n",
       "                     ID                Date              Source   Likes  \\\n",
       "114  911572182060453893 2017-09-23 12:45:19  Twitter for iPhone  214455   \n",
       "92   912301271817838593 2017-09-25 13:02:27  Twitter for iPhone  207224   \n",
       "94   912280282224525312 2017-09-25 11:39:03  Twitter for iPhone  206417   \n",
       "100  912037003923005440 2017-09-24 19:32:21  Twitter for iPhone  199226   \n",
       "167  910233418474098688 2017-09-19 20:05:32  Twitter for iPhone  191079   \n",
       "\n",
       "     Retweets  \n",
       "114     64764  \n",
       "92      74403  \n",
       "94      56087  \n",
       "100     52951  \n",
       "167     53453  "
      ]
     },
     "execution_count": 190,
     "metadata": {},
     "output_type": "execute_result"
    }
   ],
   "source": [
    "# Sort by various ways\n",
    "df.sort_values(['Likes', 'len'], ascending=False).head()"
   ]
  },
  {
   "cell_type": "code",
   "execution_count": 191,
   "metadata": {
    "collapsed": false
   },
   "outputs": [
    {
     "data": {
      "text/plain": [
       "<matplotlib.text.Text at 0x7f13b1842950>"
      ]
     },
     "execution_count": 191,
     "metadata": {},
     "output_type": "execute_result"
    },
    {
     "data": {
      "image/png": "[encoded data removed]",
      "text/plain": [
       "<matplotlib.figure.Figure at 0x7f13b0ded910>"
      ]
     },
     "metadata": {},
     "output_type": "display_data"
    }
   ],
   "source": [
    "# Explore likes histogram\n",
    "ax = df.Likes.value_counts().hist()\n",
    "ax.set_title('Number of Likes vs. Number of Tweets')\n",
    "ax.set_xlabel('No. of Tweets')\n",
    "ax.set_ylabel('No. of Likes')"
   ]
  },
  {
   "cell_type": "code",
   "execution_count": 194,
   "metadata": {
    "collapsed": false
   },
   "outputs": [
    {
     "data": {
      "text/html": [
       "<div>\n",
       "<table border=\"1\" class=\"dataframe\">\n",
       "  <thead>\n",
       "    <tr style=\"text-align: right;\">\n",
       "      <th></th>\n",
       "      <th>Tweets</th>\n",
       "      <th>len</th>\n",
       "      <th>ID</th>\n",
       "      <th>Date</th>\n",
       "      <th>Source</th>\n",
       "      <th>Likes</th>\n",
       "      <th>Retweets</th>\n",
       "    </tr>\n",
       "  </thead>\n",
       "  <tbody>\n",
       "    <tr>\n",
       "      <th>187</th>\n",
       "      <td>RT @Team_Trump45: @realDonaldTrump  https://t....</td>\n",
       "      <td>59</td>\n",
       "      <td>909389478795636736</td>\n",
       "      <td>2017-09-17 12:12:02</td>\n",
       "      <td>Twitter for iPhone</td>\n",
       "      <td>0</td>\n",
       "      <td>3529</td>\n",
       "    </tr>\n",
       "    <tr>\n",
       "      <th>188</th>\n",
       "      <td>RT @Team_Trump45: @realDonaldTrump  https://t....</td>\n",
       "      <td>59</td>\n",
       "      <td>909389385308700672</td>\n",
       "      <td>2017-09-17 12:11:39</td>\n",
       "      <td>Twitter for iPhone</td>\n",
       "      <td>0</td>\n",
       "      <td>9140</td>\n",
       "    </tr>\n",
       "    <tr>\n",
       "      <th>189</th>\n",
       "      <td>RT @glamourizes: @realDonaldTrump Only true Am...</td>\n",
       "      <td>140</td>\n",
       "      <td>909387958368784389</td>\n",
       "      <td>2017-09-17 12:05:59</td>\n",
       "      <td>Twitter for iPhone</td>\n",
       "      <td>0</td>\n",
       "      <td>7610</td>\n",
       "    </tr>\n",
       "    <tr>\n",
       "      <th>190</th>\n",
       "      <td>RT @Team_Trump45: @realDonaldTrump  https://t....</td>\n",
       "      <td>59</td>\n",
       "      <td>909387131952549888</td>\n",
       "      <td>2017-09-17 12:02:42</td>\n",
       "      <td>Twitter for iPhone</td>\n",
       "      <td>0</td>\n",
       "      <td>5983</td>\n",
       "    </tr>\n",
       "    <tr>\n",
       "      <th>191</th>\n",
       "      <td>RT @dmartosko: This is the #NYTimes. Can you u...</td>\n",
       "      <td>138</td>\n",
       "      <td>909386650953961473</td>\n",
       "      <td>2017-09-17 12:00:47</td>\n",
       "      <td>Twitter for iPhone</td>\n",
       "      <td>0</td>\n",
       "      <td>7629</td>\n",
       "    </tr>\n",
       "  </tbody>\n",
       "</table>\n",
       "</div>"
      ],
      "text/plain": [
       "                                                Tweets  len  \\\n",
       "187  RT @Team_Trump45: @realDonaldTrump  https://t....   59   \n",
       "188  RT @Team_Trump45: @realDonaldTrump  https://t....   59   \n",
       "189  RT @glamourizes: @realDonaldTrump Only true Am...  140   \n",
       "190  RT @Team_Trump45: @realDonaldTrump  https://t....   59   \n",
       "191  RT @dmartosko: This is the #NYTimes. Can you u...  138   \n",
       "\n",
       "                     ID                Date              Source  Likes  \\\n",
       "187  909389478795636736 2017-09-17 12:12:02  Twitter for iPhone      0   \n",
       "188  909389385308700672 2017-09-17 12:11:39  Twitter for iPhone      0   \n",
       "189  909387958368784389 2017-09-17 12:05:59  Twitter for iPhone      0   \n",
       "190  909387131952549888 2017-09-17 12:02:42  Twitter for iPhone      0   \n",
       "191  909386650953961473 2017-09-17 12:00:47  Twitter for iPhone      0   \n",
       "\n",
       "     Retweets  \n",
       "187      3529  \n",
       "188      9140  \n",
       "189      7610  \n",
       "190      5983  \n",
       "191      7629  "
      ]
     },
     "execution_count": 194,
     "metadata": {},
     "output_type": "execute_result"
    }
   ],
   "source": [
    "# Which tweets received zero likes?\n",
    "df[df.Likes == 0].tail()"
   ]
  },
  {
   "cell_type": "code",
   "execution_count": 195,
   "metadata": {
    "collapsed": false
   },
   "outputs": [
    {
     "data": {
      "text/plain": [
       "Date  Date\n",
       "9     15       3\n",
       "      16       2\n",
       "      17      15\n",
       "      18       5\n",
       "      19       9\n",
       "      20      25\n",
       "      21       9\n",
       "      22      11\n",
       "      23      13\n",
       "      24      11\n",
       "      25       9\n",
       "      26      17\n",
       "      27      11\n",
       "      28       8\n",
       "      29      12\n",
       "      30      31\n",
       "10    1        8\n",
       "      2        1\n",
       "Name: Tweets, dtype: int64"
      ]
     },
     "execution_count": 195,
     "metadata": {},
     "output_type": "execute_result"
    }
   ],
   "source": [
    "# Group by day\n",
    "df.groupby([df.Date.dt.month, df.Date.dt.day]).count().Tweets"
   ]
  },
  {
   "cell_type": "code",
   "execution_count": 196,
   "metadata": {
    "collapsed": false
   },
   "outputs": [],
   "source": [
    "# key step!\n",
    "df.index = df['Date']"
   ]
  },
  {
   "cell_type": "code",
   "execution_count": 217,
   "metadata": {
    "collapsed": false
   },
   "outputs": [
    {
     "data": {
      "text/plain": [
       "<matplotlib.axes._subplots.AxesSubplot at 0x7f13b0501e90>"
      ]
     },
     "execution_count": 217,
     "metadata": {},
     "output_type": "execute_result"
    },
    {
     "data": {
      "image/png": "[encoded data removed]",
      "text/plain": [
       "<matplotlib.figure.Figure at 0x7f13b13701d0>"
      ]
     },
     "metadata": {},
     "output_type": "display_data"
    }
   ],
   "source": [
    "# convert utc to est? Find out what tz it is first.\n",
    "df.groupby(df.index.tz_localize('GMT').tz_convert('US/Eastern').hour).count().Tweets.plot(kind='barh')"
   ]
  },
  {
   "cell_type": "code",
   "execution_count": 215,
   "metadata": {
    "collapsed": false
   },
   "outputs": [
    {
     "data": {
      "text/plain": [
       "0      2\n",
       "5      1\n",
       "6     21\n",
       "7     34\n",
       "8     19\n",
       "9     12\n",
       "10     3\n",
       "11     3\n",
       "12     5\n",
       "13     5\n",
       "14     5\n",
       "15    16\n",
       "16     6\n",
       "17     4\n",
       "18    21\n",
       "19    13\n",
       "20     6\n",
       "21    14\n",
       "22     7\n",
       "23     3\n",
       "Name: Tweets, dtype: int64"
      ]
     },
     "execution_count": 215,
     "metadata": {},
     "output_type": "execute_result"
    }
   ],
   "source": [
    "df.groupby(df.index.tz_localize('GMT').tz_convert('US/Eastern').hour).count().Tweets"
   ]
  },
  {
   "cell_type": "code",
   "execution_count": null,
   "metadata": {
    "collapsed": true
   },
   "outputs": [],
   "source": [
    "df.groupby(df.index.tz_localize('GMT').tz_convert('US/Eastern').hour).count().Tweets.max"
   ]
  },
  {
   "cell_type": "code",
   "execution_count": null,
   "metadata": {
    "collapsed": true
   },
   "outputs": [],
   "source": [
    "df.groupby(df.index.tz_localize('GMT').tz_convert('US/Eastern').hour).count().Tweets.max"
   ]
  },
  {
   "cell_type": "code",
   "execution_count": 150,
   "metadata": {
    "collapsed": false
   },
   "outputs": [],
   "source": [
    "xticks_12 = ['12 AM', '1 AM', '2 AM', '3 AM', '4 AM', '5 AM', '6 AM', '7 AM', '8 AM', '9 AM', '10 AM', '11 AM',\n",
    "            '12 PM', '1 PM', '2 PM', '3 PM', '4 PM', '5 PM', '6 PM', '7 PM', '8 PM', '9 PM', '10 PM', '11 PM']"
   ]
  },
  {
   "cell_type": "code",
   "execution_count": 174,
   "metadata": {
    "collapsed": false
   },
   "outputs": [
    {
     "data": {
      "text/plain": [
       "DatetimeIndex(['2017-09-30 19:32:54-04:00', '2017-09-29 13:15:41-04:00',\n",
       "               '2017-09-27 11:58:01-04:00', '2017-09-25 09:56:34-04:00',\n",
       "               '2017-09-23 09:58:02-04:00', '2017-09-22 21:37:36-04:00',\n",
       "               '2017-09-22 20:49:09-04:00', '2017-09-22 20:48:49-04:00',\n",
       "               '2017-09-22 17:14:31-04:00', '2017-09-22 13:56:35-04:00',\n",
       "               ...\n",
       "               '2016-09-20 13:25:32-04:00', '2016-09-20 13:02:31-04:00',\n",
       "               '2016-09-18 09:08:17-04:00', '2016-09-17 11:22:30-04:00',\n",
       "               '2016-09-16 19:44:25-04:00', '2016-09-09 16:47:07-04:00',\n",
       "               '2016-08-12 15:08:10-04:00', '2016-08-12 15:05:09-04:00',\n",
       "               '2016-08-11 19:14:47-04:00', '2016-08-11 14:48:14-04:00'],\n",
       "              dtype='datetime64[ns, US/Eastern]', name=u'Date', length=200, freq=None)"
      ]
     },
     "execution_count": 174,
     "metadata": {},
     "output_type": "execute_result"
    }
   ],
   "source": [
    "# Show GMT to EDT\n",
    "df.index.tz_localize('GMT').tz_convert('US/Eastern')"
   ]
  },
  {
   "cell_type": "code",
   "execution_count": 175,
   "metadata": {
    "collapsed": false
   },
   "outputs": [
    {
     "data": {
      "text/plain": [
       "array(['12 AM', '01 AM', '02 AM', '03 AM', '04 AM', '05 AM', '06 AM',\n",
       "       '07 AM', '08 AM', '09 AM', '10 AM', '11 AM', '12 PM', '01 PM',\n",
       "       '02 PM', '03 PM', '04 PM', '05 PM', '06 PM', '07 PM', '08 PM',\n",
       "       '09 PM', '10 PM', '11 PM'], dtype=object)"
      ]
     },
     "execution_count": 175,
     "metadata": {},
     "output_type": "execute_result"
    }
   ],
   "source": [
    "# Time format x-axis to 12-o'clock time\n",
    "xticks = pd.date_range('00:00', '23:00', freq='H', tz='US/Eastern').map(lambda x: pd.datetime.strftime(x, '%I %p'))\n",
    "xticks"
   ]
  },
  {
   "cell_type": "code",
   "execution_count": 142,
   "metadata": {
    "collapsed": true
   },
   "outputs": [],
   "source": [
    "pd.date_range?"
   ]
  },
  {
   "cell_type": "code",
   "execution_count": 176,
   "metadata": {
    "collapsed": false
   },
   "outputs": [
    {
     "data": {
      "text/plain": [
       "<matplotlib.text.Text at 0x7f13b111fe90>"
      ]
     },
     "execution_count": 176,
     "metadata": {},
     "output_type": "execute_result"
    },
    {
     "data": {
      "image/png": "[encoded data removed]",
      "text/plain": [
       "<matplotlib.figure.Figure at 0x7f13b1146e50>"
      ]
     },
     "metadata": {},
     "output_type": "display_data"
    }
   ],
   "source": [
    "# Convert from GMT to US EST.\n",
    "ax = df.groupby(df.index.tz_localize('GMT').tz_convert('US/Eastern').hour).count().Tweets.plot(kind='bar')\n",
    "ax.set_xticks(np.arange(24))\n",
    "ax.set_xticklabels(xticks, rotation=45)\n",
    "ax.set_title('Number of Tweets vs. Time')\n",
    "ax.set_xlabel('Time (h)')\n",
    "ax.set_ylabel('No. of Tweets')"
   ]
  },
  {
   "cell_type": "code",
   "execution_count": null,
   "metadata": {
    "collapsed": true
   },
   "outputs": [],
   "source": []
  },
  {
   "cell_type": "code",
   "execution_count": 137,
   "metadata": {
    "collapsed": false
   },
   "outputs": [
    {
     "data": {
      "text/plain": [
       "Wednesday    39\n",
       "Sunday       37\n",
       "Tuesday      31\n",
       "Thursday     30\n",
       "Friday       29\n",
       "Saturday     18\n",
       "Monday       16\n",
       "Name: Tweets, dtype: int64"
      ]
     },
     "execution_count": 137,
     "metadata": {},
     "output_type": "execute_result"
    }
   ],
   "source": [
    "df.groupby(df.index.weekday_name).count().Tweets.sort_values(ascending=False)"
   ]
  },
  {
   "cell_type": "code",
   "execution_count": 48,
   "metadata": {
    "collapsed": false
   },
   "outputs": [
    {
     "data": {
      "text/plain": [
       "array(['12 AM', '01 AM', '02 AM', '03 AM', '04 AM', '05 AM', '06 AM',\n",
       "       '07 AM', '08 AM', '09 AM', '10 AM', '11 AM', '12 PM', '01 PM',\n",
       "       '02 PM', '03 PM', '04 PM', '05 PM', '06 PM', '07 PM', '08 PM',\n",
       "       '09 PM', '10 PM', '11 PM'], dtype=object)"
      ]
     },
     "execution_count": 48,
     "metadata": {},
     "output_type": "execute_result"
    }
   ],
   "source": []
  },
  {
   "cell_type": "code",
   "execution_count": null,
   "metadata": {
    "collapsed": true
   },
   "outputs": [],
   "source": [
    "df.groupby(df.index.hour).count().Tweets.plot"
   ]
  },
  {
   "cell_type": "code",
   "execution_count": 196,
   "metadata": {
    "collapsed": false
   },
   "outputs": [
    {
     "name": "stdout",
     "output_type": "stream",
     "text": [
      "Tweet length average is: 122.075\n",
      "\n"
     ]
    }
   ],
   "source": [
    "# Compute metrics\n",
    "mean = np.mean(df.len)\n",
    "print('Tweet length average is: {}\\n'.format(mean))"
   ]
  },
  {
   "cell_type": "code",
   "execution_count": 197,
   "metadata": {
    "collapsed": false
   },
   "outputs": [
    {
     "name": "stdout",
     "output_type": "stream",
     "text": [
      "Most liked tweet is:\n",
      "My op-ed in @nytimes: The Shocking Affront of Donald Trump’s C.I.A. Stunt https://t.co/sQGAoNzeGg\n",
      "Number of likes: 868\n",
      "97 characters.\n",
      "\n",
      "Most retweeted tweet is:\n",
      "RT @JoeBiden: Just had the chance to see President Trump's golf swing tweet. Enough. This has to stop. Our children are watching.\n",
      "Number of likes: 74741\n",
      "129 characters.\n",
      "\n"
     ]
    }
   ],
   "source": [
    "# Get most-liked and retweeted tweet\n",
    "fav_max = np.max(df.Likes)\n",
    "rt_max = np.max(df.Retweets)\n",
    "\n",
    "fav_idx = df[df.Likes == fav_max].index[0]\n",
    "rt_idx = df[df.Retweets == rt_max].index[0]\n",
    "\n",
    "# Max favorite tweet:\n",
    "print(\"Most liked tweet is:\")\n",
    "print(\"%s\" % df['Tweets'][fav_idx])\n",
    "print(\"Number of likes: {}\".format(fav_max))\n",
    "print(\"{} characters.\\n\".format(df['len'][fav_idx]))\n",
    "\n",
    "# Max retweeted tweet:\n",
    "print(\"Most retweeted tweet is:\")\n",
    "print(\"%s\" % df['Tweets'][rt_idx])\n",
    "print(\"Number of likes: {}\".format(rt_max))\n",
    "print(\"{} characters.\\n\".format(df['len'][rt_idx]))"
   ]
  },
  {
   "cell_type": "code",
   "execution_count": 13,
   "metadata": {
    "collapsed": false
   },
   "outputs": [],
   "source": [
    "# Construct pandas Series objects\n",
    "time_length = pd.Series(df.len.values, index=df.Date)\n",
    "time_favorite = pd.Series(df.Likes.values, index=df.Date)\n",
    "time_retweet = pd.Series(df.Retweets.values, index=df.Date)"
   ]
  },
  {
   "cell_type": "code",
   "execution_count": 14,
   "metadata": {
    "collapsed": false
   },
   "outputs": [
    {
     "data": {
      "text/plain": [
       "<matplotlib.text.Text at 0x7fa22e234c90>"
      ]
     },
     "execution_count": 14,
     "metadata": {},
     "output_type": "execute_result"
    },
    {
     "data": {
      "image/png": "[encoded data removed]",
      "text/plain": [
       "<matplotlib.figure.Figure at 0x7fa22e9fb750>"
      ]
     },
     "metadata": {},
     "output_type": "display_data"
    }
   ],
   "source": [
    "# plot Series obj\n",
    "ax = time_length.plot(figsize=(16,4), color='r', title='Tweet length vs. DateTime')\n",
    "ax.set_xlabel(\"DateTime\")\n",
    "ax.set_ylabel(\"Tweet length\")"
   ]
  },
  {
   "cell_type": "code",
   "execution_count": 116,
   "metadata": {
    "collapsed": false
   },
   "outputs": [
    {
     "data": {
      "text/plain": [
       "<matplotlib.text.Text at 0x7fd789b59690>"
      ]
     },
     "execution_count": 116,
     "metadata": {},
     "output_type": "execute_result"
    },
    {
     "data": {
      "image/png": "[encoded data removed]",
      "text/plain": [
       "<matplotlib.figure.Figure at 0x7fd78981ea90>"
      ]
     },
     "metadata": {},
     "output_type": "display_data"
    }
   ],
   "source": [
    "# Plot Likes and retweets over time:\n",
    "time_favorite.plot(figsize=(16,4), label=\"Likes\", legend=True, title=\"Likes & Retweets vs. DateTime\") \n",
    "ax = time_retweet.plot(figsize=(16,4), label=\"Retweets\", legend=True)\n",
    "ax.set_xlabel(\"DateTime\")\n",
    "ax.set_ylabel(\"Total (k)\")"
   ]
  },
  {
   "cell_type": "code",
   "execution_count": 16,
   "metadata": {
    "collapsed": false
   },
   "outputs": [
    {
     "name": "stdout",
     "output_type": "stream",
     "text": [
      "Tweet created using:\n",
      "* Twitter for iPhone\n",
      "* Media Studio\n"
     ]
    }
   ],
   "source": [
    "# Get sources\n",
    "sources = []\n",
    "for source in df.Source:\n",
    "    if source not in sources:\n",
    "        sources.append(source)\n",
    "        \n",
    "# Print sources\n",
    "print(\"Tweet created using:\")\n",
    "for source in sources:\n",
    "    print(\"* {}\".format(source))"
   ]
  },
  {
   "cell_type": "code",
   "execution_count": 17,
   "metadata": {
    "collapsed": false
   },
   "outputs": [
    {
     "data": {
      "text/plain": [
       "<matplotlib.axes._subplots.AxesSubplot at 0x7fa22e0f57d0>"
      ]
     },
     "execution_count": 17,
     "metadata": {},
     "output_type": "execute_result"
    },
    {
     "data": {
      "image/png": "[encoded data removed]",
      "text/plain": [
       "<matplotlib.figure.Figure at 0x7fa22e056750>"
      ]
     },
     "metadata": {},
     "output_type": "display_data"
    }
   ],
   "source": [
    "# Create a pie chart of sources:\n",
    "\n",
    "percent = np.zeros(len(sources))\n",
    "\n",
    "for source in df.Source:\n",
    "    for idx in range(len(sources)):\n",
    "        if source == sources[idx]:\n",
    "            percent[idx] += 1\n",
    "            pass\n",
    "\n",
    "percent /= 100\n",
    "\n",
    "pie_chart = pd.Series(percent, index=sources, name='Platform sources')\n",
    "pie_chart.plot.pie(fontsize=11, autopct='%.2f', figsize=(6, 6))"
   ]
  }
 ],
 "metadata": {
  "kernelspec": {
   "display_name": "Python 2",
   "language": "python",
   "name": "python2"
  },
  "language_info": {
   "codemirror_mode": {
    "name": "ipython",
    "version": 2
   },
   "file_extension": ".py",
   "mimetype": "text/x-python",
   "name": "python",
   "nbconvert_exporter": "python",
   "pygments_lexer": "ipython2",
   "version": "2.7.13"
  }
 },
 "nbformat": 4,
 "nbformat_minor": 2
}
